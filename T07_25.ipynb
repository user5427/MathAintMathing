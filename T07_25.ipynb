{
  "nbformat": 4,
  "nbformat_minor": 0,
  "metadata": {
    "colab": {
      "provenance": [],
      "authorship_tag": "ABX9TyMMvINz+sR/VRzvJzCsmYuf",
      "include_colab_link": true
    },
    "kernelspec": {
      "name": "python3",
      "display_name": "Python 3"
    },
    "language_info": {
      "name": "python"
    }
  },
  "cells": [
    {
      "cell_type": "markdown",
      "metadata": {
        "id": "view-in-github",
        "colab_type": "text"
      },
      "source": [
        "<a href=\"https://colab.research.google.com/github/user5427/MathAintMathing/blob/master/T07_25.ipynb\" target=\"_parent\"><img src=\"https://colab.research.google.com/assets/colab-badge.svg\" alt=\"Open In Colab\"/></a>"
      ]
    },
    {
      "cell_type": "markdown",
      "source": [
        "math_1_1.py"
      ],
      "metadata": {
        "id": "SVPF6C_yasf2"
      }
    },
    {
      "cell_type": "code",
      "execution_count": null,
      "metadata": {
        "colab": {
          "base_uri": "https://localhost:8080/"
        },
        "id": "cX8AUbZ7aGFC",
        "outputId": "0b89cb5c-fe6c-466f-853f-f23c1ea669c6"
      },
      "outputs": [
        {
          "output_type": "stream",
          "name": "stdout",
          "text": [
            "0.010833992649873047\n"
          ]
        }
      ],
      "source": [
        "import math\n",
        "\n",
        "N = 492\n",
        "n = 137\n",
        "k = 5\n",
        "m = 5\n",
        "\n",
        "prob = k / N\n",
        "\n",
        "Lambda = n * prob\n",
        "\n",
        "\n",
        "res = (Lambda ** m) * (2.71828 ** -Lambda) / math.factorial(m)\n",
        "\n",
        "print(res)"
      ]
    },
    {
      "cell_type": "markdown",
      "source": [
        "math_1_2.py"
      ],
      "metadata": {
        "id": "xboHiOZ9azHv"
      }
    },
    {
      "cell_type": "code",
      "source": [
        "import math\n",
        "\n",
        "N = 492\n",
        "n = 137\n",
        "k = 5\n",
        "requiredAboveOrEqual = 5\n",
        "\n",
        "prob = k / N\n",
        "\n",
        "Lambda = n * prob\n",
        "\n",
        "\n",
        "sum = 0\n",
        "for i in range(0, requiredAboveOrEqual):\n",
        "    sum += (Lambda ** i) * (2.71828 ** -Lambda) / math.factorial(i)\n",
        "\n",
        "print(1 - sum)"
      ],
      "metadata": {
        "colab": {
          "base_uri": "https://localhost:8080/"
        },
        "id": "Zo8df1Usa1aU",
        "outputId": "c62f35c4-7907-4a99-c2c6-0a4030592828"
      },
      "execution_count": null,
      "outputs": [
        {
          "output_type": "stream",
          "name": "stdout",
          "text": [
            "0.013949690377059398\n"
          ]
        }
      ]
    },
    {
      "cell_type": "markdown",
      "source": [
        "wrong"
      ],
      "metadata": {
        "id": "HMWF_RAlDIIb"
      }
    },
    {
      "cell_type": "code",
      "source": [
        "#import math\n",
        "#from scipy.stats import norm\n",
        "#N = 492\n",
        "#n = 137\n",
        "#k = 5\n",
        "#m = 5\n",
        "\n",
        "p = k/n\n",
        "\n",
        "calc = (m - n*p) / ((n*p*(1-p)) ** 2)\n",
        "\n",
        "res = 1 - norm.cdf(calc)\n",
        "\n",
        "print(res)\n"
      ],
      "metadata": {
        "colab": {
          "base_uri": "https://localhost:8080/"
        },
        "id": "FZeNvx4PAKws",
        "outputId": "24d6adfd-c032-4cf2-fca7-de81fb86ea94"
      },
      "execution_count": null,
      "outputs": [
        {
          "output_type": "stream",
          "name": "stdout",
          "text": [
            "0.5\n"
          ]
        }
      ]
    },
    {
      "cell_type": "markdown",
      "source": [
        "math_2.py"
      ],
      "metadata": {
        "id": "iIJL-edua2v-"
      }
    },
    {
      "cell_type": "code",
      "source": [
        "#THE SOLUTION WITH random() CAN BE FOUND IN T06 math1_2_multithreaded.py OR IN T07 math2...\n",
        "\n",
        "import math\n",
        "\n",
        "\n",
        "p = 0.67\n",
        "n = 1052\n",
        "r = 388\n",
        "a = (-r + n) / 2\n",
        "b = (r + n) / 2\n",
        "\n",
        "u = (a - n * p) / (n * p * (1 - p)) ** 0.5\n",
        "v = (b - n * p) / (n * p * (1 - p)) ** 0.5\n",
        "\n",
        "prob =  math.erf(v / 2 ** 0.5) - math.erf(u / 2 ** 0.5)\n",
        "\n",
        "prob *= 0.5\n",
        "\n",
        "otherRes = norm.cdf(v) - norm.cdf(u)\n",
        "\n",
        "print(prob)\n",
        "\n",
        "print(otherRes)"
      ],
      "metadata": {
        "colab": {
          "base_uri": "https://localhost:8080/"
        },
        "id": "dIhXZTQpa5LQ",
        "outputId": "fe3aecb8-c80c-4f14-bb36-6a93e97ee193"
      },
      "execution_count": null,
      "outputs": [
        {
          "output_type": "stream",
          "name": "stdout",
          "text": [
            "0.8398944584009402\n",
            "0.8398944584009402\n"
          ]
        }
      ]
    },
    {
      "cell_type": "markdown",
      "source": [
        "math_3.py"
      ],
      "metadata": {
        "id": "xNj84VyLa5t8"
      }
    },
    {
      "cell_type": "code",
      "source": [
        "#THE SOLUTION WITH random() CAN BE FOUND IN T06 math1_2_multithreaded.py OR IN T07 math3...\n",
        "\n",
        "import math\n",
        "from scipy.stats import norm\n",
        "\n",
        "\n",
        "n = 439\n",
        "m = 5.0\n",
        "alfa = 0.76\n",
        "\n",
        "prob = m / 12\n",
        "\n",
        "\n",
        "#normsinv\n",
        "def normsinv(p):\n",
        "    return norm.ppf(p)\n",
        "\n",
        "y = normsinv(alfa)\n",
        "\n",
        "y *= (n * prob * (1 - prob)) ** 0.5\n",
        "\n",
        "y += n*prob\n",
        "\n",
        "print(y)\n",
        "\n",
        "# it may be one larger (rounded)\n",
        "\n",
        "print(math.ceil(y))"
      ],
      "metadata": {
        "colab": {
          "base_uri": "https://localhost:8080/"
        },
        "id": "gnJTSsRUa7hn",
        "outputId": "c4a9efe0-eb6c-4df8-af34-031aefbb3bca"
      },
      "execution_count": null,
      "outputs": [
        {
          "output_type": "stream",
          "name": "stdout",
          "text": [
            "190.21251535424204\n",
            "191\n"
          ]
        }
      ]
    },
    {
      "cell_type": "markdown",
      "source": [
        "math_4_1.py"
      ],
      "metadata": {
        "id": "jb4bnaHKa8he"
      }
    },
    {
      "cell_type": "code",
      "source": [
        "#THE SOLUTION WITH random() CAN BE FOUND IN T06 math1_2_multithreaded.py OR IN T07 math3...\n",
        "\n",
        "import math\n",
        "from scipy.stats import norm\n",
        "\n",
        "\n",
        "n = 2325\n",
        "p2 = 81/100\n",
        "p3 = 76/100\n",
        "m = 4+1\n",
        "r = 27\n",
        "p3 = p3 / m\n",
        "\n",
        "#normsinv\n",
        "def normsinv(p):\n",
        "    return norm.ppf(p)\n",
        "\n",
        "y = normsinv(1 - r / 100)\n",
        "\n",
        "y *= (n * p3 * (1 - p3)) ** 0.5\n",
        "\n",
        "y += n*p3\n",
        "\n",
        "print(y)\n",
        "\n",
        "# it may be one larger (rounded)\n",
        "\n",
        "print(math.ceil(y))"
      ],
      "metadata": {
        "colab": {
          "base_uri": "https://localhost:8080/"
        },
        "id": "-sEaGVdwa-Km",
        "outputId": "081277e9-68de-47e0-a0aa-e38e2de8a09a"
      },
      "execution_count": null,
      "outputs": [
        {
          "output_type": "stream",
          "name": "stdout",
          "text": [
            "364.0086265647837\n",
            "365\n"
          ]
        }
      ]
    },
    {
      "cell_type": "markdown",
      "source": [
        "math_4_2.py"
      ],
      "metadata": {
        "id": "nIbLMRgRa_bl"
      }
    },
    {
      "cell_type": "code",
      "source": [
        "#THE SOLUTION WITH random() CAN BE FOUND IN T06 math1_2_multithreaded.py OR IN T07 math3...\n",
        "\n",
        "import math\n",
        "from scipy.stats import norm\n",
        "\n",
        "\n",
        "n = 2325\n",
        "p2 = 81/100\n",
        "p3 = 76/100\n",
        "m = 4+1\n",
        "r = 27\n",
        "p2=p2/m\n",
        "p3=p3/m\n",
        "\n",
        "#normsinv\n",
        "def normsinv(p):\n",
        "    return norm.ppf(p)\n",
        "\n",
        "y = normsinv(1 - r / 100)\n",
        "\n",
        "y *= (n * p3 * (1 - p3)) ** 0.5\n",
        "\n",
        "y += n*p3\n",
        "\n",
        "\n",
        "# q 2 and 3\n",
        "\n",
        "q2 = (y - n*p2) / (n * p2 * (1 - p2)) ** 0.5\n",
        "\n",
        "prob2 =  1 - norm.cdf(q2)\n",
        "\n",
        "print(prob2)"
      ],
      "metadata": {
        "colab": {
          "base_uri": "https://localhost:8080/"
        },
        "id": "OWiSZkg4bAR1",
        "outputId": "f488e9e6-5005-476e-a10f-1de11dac1a3b"
      },
      "execution_count": null,
      "outputs": [
        {
          "output_type": "stream",
          "name": "stdout",
          "text": [
            "0.7616271661001024\n"
          ]
        }
      ]
    },
    {
      "cell_type": "markdown",
      "source": [
        "math_5.py"
      ],
      "metadata": {
        "id": "YPp5QnJpbBSD"
      }
    },
    {
      "cell_type": "code",
      "source": [
        "import math\n",
        "\n",
        "n = 766\n",
        "k = 5\n",
        "p = 0.009\n",
        "\n",
        "sum = 0\n",
        "\n",
        "for i in range(0, k+1):\n",
        "    Lambda = n * p\n",
        "    prob = (Lambda ** i) * (2.71828 ** -Lambda) / math.factorial(i)\n",
        "    sum += prob\n",
        "\n",
        "print(1 - sum)"
      ],
      "metadata": {
        "colab": {
          "base_uri": "https://localhost:8080/"
        },
        "id": "NVOOQr4nbCVF",
        "outputId": "6dea1625-af44-4609-b8e7-c1bf66ce1794"
      },
      "execution_count": null,
      "outputs": [
        {
          "output_type": "stream",
          "name": "stdout",
          "text": [
            "0.6855478761847762\n"
          ]
        }
      ]
    }
  ]
}