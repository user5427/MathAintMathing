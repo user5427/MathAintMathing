{
  "nbformat": 4,
  "nbformat_minor": 0,
  "metadata": {
    "colab": {
      "provenance": [],
      "authorship_tag": "ABX9TyN6VCLE5fwlbDvccjY7opnd",
      "include_colab_link": true
    },
    "kernelspec": {
      "name": "python3",
      "display_name": "Python 3"
    },
    "language_info": {
      "name": "python"
    }
  },
  "cells": [
    {
      "cell_type": "markdown",
      "metadata": {
        "id": "view-in-github",
        "colab_type": "text"
      },
      "source": [
        "<a href=\"https://colab.research.google.com/github/user5427/MathAintMathing/blob/master/T07_25.ipynb\" target=\"_parent\"><img src=\"https://colab.research.google.com/assets/colab-badge.svg\" alt=\"Open In Colab\"/></a>"
      ]
    },
    {
      "cell_type": "markdown",
      "source": [
        "math_1_1.py"
      ],
      "metadata": {
        "id": "SVPF6C_yasf2"
      }
    },
    {
      "cell_type": "code",
      "execution_count": 1,
      "metadata": {
        "colab": {
          "base_uri": "https://localhost:8080/"
        },
        "id": "cX8AUbZ7aGFC",
        "outputId": "c515cdde-e70d-4b73-93ac-91ae722c868f"
      },
      "outputs": [
        {
          "output_type": "stream",
          "name": "stdout",
          "text": [
            "0.010833992649873047\n"
          ]
        }
      ],
      "source": [
        "import math\n",
        "\n",
        "N = 492\n",
        "n = 137\n",
        "k = 5\n",
        "m = 5\n",
        "\n",
        "prob = k / N\n",
        "\n",
        "Lambda = n * prob\n",
        "\n",
        "\n",
        "res = (Lambda ** m) * (2.71828 ** -Lambda) / math.factorial(m)\n",
        "\n",
        "print(res)\n"
      ]
    },
    {
      "cell_type": "markdown",
      "source": [
        "math_1_2.py"
      ],
      "metadata": {
        "id": "xboHiOZ9azHv"
      }
    },
    {
      "cell_type": "code",
      "source": [
        "import math\n",
        "\n",
        "N = 492\n",
        "n = 137\n",
        "k = 5\n",
        "requiredAboveOrEqual = 5\n",
        "\n",
        "prob = k / N\n",
        "\n",
        "Lambda = n * prob\n",
        "\n",
        "\n",
        "sum = 0\n",
        "for i in range(0, requiredAboveOrEqual):\n",
        "    sum += (Lambda ** i) * (2.71828 ** -Lambda) / math.factorial(i)\n",
        "\n",
        "print(1 - sum)"
      ],
      "metadata": {
        "colab": {
          "base_uri": "https://localhost:8080/"
        },
        "id": "Zo8df1Usa1aU",
        "outputId": "3156d572-85f6-4127-89c7-98e26f3055f2"
      },
      "execution_count": 2,
      "outputs": [
        {
          "output_type": "stream",
          "name": "stdout",
          "text": [
            "0.013949690377059398\n"
          ]
        }
      ]
    },
    {
      "cell_type": "markdown",
      "source": [
        "math_2.py"
      ],
      "metadata": {
        "id": "iIJL-edua2v-"
      }
    },
    {
      "cell_type": "code",
      "source": [
        "#THE SOLUTION WITH random() CAN BE FOUND IN T06 math1_2_multithreaded.py OR IN T07 math2...\n",
        "\n",
        "import math\n",
        "\n",
        "\n",
        "p = 0.67\n",
        "n = 1052\n",
        "r = 388\n",
        "a = (-r + n) / 2\n",
        "b = (r + n) / 2\n",
        "\n",
        "u = (a - n * p) / (n * p * (1 - p)) ** 0.5\n",
        "v = (b - n * p) / (n * p * (1 - p)) ** 0.5\n",
        "\n",
        "prob =  math.erf(v / 2 ** 0.5) - math.erf(u / 2 ** 0.5)\n",
        "\n",
        "prob *= 0.5\n",
        "\n",
        "print(prob)"
      ],
      "metadata": {
        "colab": {
          "base_uri": "https://localhost:8080/"
        },
        "id": "dIhXZTQpa5LQ",
        "outputId": "9f51d6c4-7bb5-4e4c-c229-f47c6cc88546"
      },
      "execution_count": 3,
      "outputs": [
        {
          "output_type": "stream",
          "name": "stdout",
          "text": [
            "0.8398944584009402\n"
          ]
        }
      ]
    },
    {
      "cell_type": "markdown",
      "source": [
        "math_3.py"
      ],
      "metadata": {
        "id": "xNj84VyLa5t8"
      }
    },
    {
      "cell_type": "code",
      "source": [
        "#THE SOLUTION WITH random() CAN BE FOUND IN T06 math1_2_multithreaded.py OR IN T07 math3...\n",
        "\n",
        "import math\n",
        "from scipy.stats import norm\n",
        "\n",
        "\n",
        "n = 439\n",
        "m = 5.0\n",
        "alfa = 0.76\n",
        "\n",
        "prob = m / 12\n",
        "\n",
        "\n",
        "#normsinv\n",
        "def normsinv(p):\n",
        "    return norm.ppf(p)\n",
        "\n",
        "y = normsinv(alfa)\n",
        "\n",
        "y *= (n * prob * (1 - prob)) ** 0.5\n",
        "\n",
        "y += n*prob\n",
        "\n",
        "print(y)\n",
        "\n",
        "# it may be one larger (rounded)\n",
        "\n",
        "print(math.ceil(y))"
      ],
      "metadata": {
        "colab": {
          "base_uri": "https://localhost:8080/"
        },
        "id": "gnJTSsRUa7hn",
        "outputId": "e93850e7-06e5-45ad-cf9a-6299d216e869"
      },
      "execution_count": 4,
      "outputs": [
        {
          "output_type": "stream",
          "name": "stdout",
          "text": [
            "190.21251535424204\n",
            "191\n"
          ]
        }
      ]
    },
    {
      "cell_type": "markdown",
      "source": [
        "math_4_1.py"
      ],
      "metadata": {
        "id": "jb4bnaHKa8he"
      }
    },
    {
      "cell_type": "code",
      "source": [
        "#THE SOLUTION WITH random() CAN BE FOUND IN T06 math1_2_multithreaded.py OR IN T07 math3...\n",
        "\n",
        "import math\n",
        "from scipy.stats import norm\n",
        "\n",
        "\n",
        "n = 2325\n",
        "p2 = 81/100\n",
        "p3 = 76/100\n",
        "m = 4\n",
        "r = 27\n",
        "\n",
        "\n",
        "#normsinv\n",
        "def normsinv(p):\n",
        "    return norm.ppf(p)\n",
        "\n",
        "y = normsinv(1 - r / 100)\n",
        "\n",
        "y *= (n * p3 * (1 - p3)) ** 0.5\n",
        "\n",
        "y += n*p3\n",
        "\n",
        "print(y)\n",
        "\n",
        "# it may be one larger (rounded)\n",
        "\n",
        "print(math.ceil(y))"
      ],
      "metadata": {
        "colab": {
          "base_uri": "https://localhost:8080/"
        },
        "id": "-sEaGVdwa-Km",
        "outputId": "396ecf17-408c-4113-aa9d-631e1eca6411"
      },
      "execution_count": 5,
      "outputs": [
        {
          "output_type": "stream",
          "name": "stdout",
          "text": [
            "1779.61978217924\n",
            "1780\n"
          ]
        }
      ]
    },
    {
      "cell_type": "markdown",
      "source": [
        "math_4_2.py"
      ],
      "metadata": {
        "id": "nIbLMRgRa_bl"
      }
    },
    {
      "cell_type": "code",
      "source": [
        "#THE SOLUTION WITH random() CAN BE FOUND IN T06 math1_2_multithreaded.py OR IN T07 math3...\n",
        "\n",
        "import math\n",
        "from scipy.stats import norm\n",
        "\n",
        "\n",
        "n = 2325\n",
        "p2 = 81/100\n",
        "p3 = 76/100\n",
        "m = 4\n",
        "r = 27\n",
        "\n",
        "\n",
        "#normsinv\n",
        "def normsinv(p):\n",
        "    return norm.ppf(p)\n",
        "\n",
        "y = normsinv(1 - r / 100)\n",
        "\n",
        "y *= (n * p3 * (1 - p3)) ** 0.5\n",
        "\n",
        "y += n*p3\n",
        "\n",
        "\n",
        "# q 2 and 3\n",
        "\n",
        "q2 = (y - n*p2) / (n * p2 * (1 - p2)) ** 0.5\n",
        "\n",
        "prob2 =  1 - norm.cdf(q2)\n",
        "\n",
        "print(prob2)"
      ],
      "metadata": {
        "colab": {
          "base_uri": "https://localhost:8080/"
        },
        "id": "OWiSZkg4bAR1",
        "outputId": "6f66aba7-30cf-41b8-a92b-c4904bea94dd"
      },
      "execution_count": 6,
      "outputs": [
        {
          "output_type": "stream",
          "name": "stdout",
          "text": [
            "0.9999999785434297\n"
          ]
        }
      ]
    },
    {
      "cell_type": "markdown",
      "source": [
        "math_5.py"
      ],
      "metadata": {
        "id": "YPp5QnJpbBSD"
      }
    },
    {
      "cell_type": "code",
      "source": [
        "import math\n",
        "\n",
        "n = 776\n",
        "k = 5\n",
        "p = 0.009\n",
        "\n",
        "sum = 0\n",
        "\n",
        "for i in range(0, k+1):\n",
        "    Lambda = n * p\n",
        "    prob = (Lambda ** i) * (2.71828 ** -Lambda) / math.factorial(i)\n",
        "    sum += prob\n",
        "\n",
        "print(1 - sum)"
      ],
      "metadata": {
        "colab": {
          "base_uri": "https://localhost:8080/"
        },
        "id": "NVOOQr4nbCVF",
        "outputId": "01ac2fa0-809b-4bd2-f450-f309f6e8537d"
      },
      "execution_count": 7,
      "outputs": [
        {
          "output_type": "stream",
          "name": "stdout",
          "text": [
            "0.6972421658694916\n"
          ]
        }
      ]
    }
  ]
}